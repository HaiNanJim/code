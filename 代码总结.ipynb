{
 "cells": [
  {
   "cell_type": "markdown",
   "metadata": {},
   "source": [
    "<font color=Blue size=6> **个人代码总结**</font>"
   ]
  },
  {
   "cell_type": "code",
   "execution_count": 6,
   "metadata": {
    "collapsed": true,
    "nbpresent": {
     "id": "5e4ef1cb-f80e-4125-9eb1-1a9105791c1c"
    }
   },
   "outputs": [],
   "source": [
    "import numpy as np\n",
    "import pandas as pd\n",
    "import matplotlib.pyplot as plt\n",
    "import datetime\n",
    "import os\n",
    "from dateutil import parser\n",
    "%matplotlib inline\n",
    "# 基本的数据查看函数\n",
    "# 2020-03-31\n",
    "\n"
   ]
  },
  {
   "cell_type": "markdown",
   "metadata": {},
   "source": [
    "<font color=Blue size=5> **一、日期处理**</font>"
   ]
  },
  {
   "cell_type": "markdown",
   "metadata": {
    "nbpresent": {
     "id": "3b8dd9e5-90c7-4f77-b1cc-78ef4ef8b89f"
    }
   },
   "source": [
    "<font color=Blue size=4> **1.1 时间戳与时间互相转换**</font>  \n",
    "now = datetime.datetime.now()  \n",
    "print(now)  \n",
    "time_stamp = now.timestamp()  \n",
    "print(type(time_stamp))  \n",
    "now_ = datetime.datetime.fromtimestamp(time_stamp)  \n",
    "print(now_)  \n",
    "<font color=Blue size=4> **1.2 时间对象与字符串互相转换**</font>  \n",
    "dateTime_1 = datetime.datetime.strptime(time1_str,'%Y-%m-%d  %H:%M:%S')  \n",
    "time1_str = dateTime_1.strftime('%Y-%m-%d  %H:%M:%S')<br/>\n",
    "<font color=Blue size=4> **1.3 加减时间**</font>  \n",
    "data_time1 = data_time1 - datetime.timedelta(minutes=1)"
   ]
  },
  {
   "cell_type": "markdown",
   "metadata": {},
   "source": [
    "<font color=Blue size=5> **二、 pd.DataFrame 类的用法** </font>  "
   ]
  },
  {
   "cell_type": "markdown",
   "metadata": {},
   "source": [
    "\n",
    "<font color=Blue size=4> **2.1 读取CSV文件** </font>  \n",
    "  data = pd.read_csv(file_name_str,encoding='gbk',header=None)  返回的是一个pd.DataFrame对象，假如里面是有表头的如：'武汉','琼中'  \n",
    "  data['武汉'].values  class 'numpy.ndarray' \n",
    "  data[['武汉','琼中']].values 返回两列数据，无表头，class 'numpy.ndarray'  \n",
    "  data['武汉','琼中'].values 是错误的   \n",
    "  data['武汉'] class 'pandas.core.series.Series'   \n",
    "  data[['武汉','琼中']] class 'pandas.core.frame.DataFrame'  \n",
    "  \n",
    "<font color=Blue size=4> **2.1 访问列** </font><br/>\n",
    "data[0]<br/>\n",
    "data[1]<br/>\n",
    "这个与传统的numpy是相反的\n",
    "\n",
    "<font color=Blue size=4> **2.2 垂直拼接**  </font>  \n",
    " data_frame = pd.concat([data_frame,tmp_frame])  \n",
    "\n",
    "<font color=Blue size=4> **2.3  截取其中的一部分返回仍然为 pd.DataFrame对象** </font>  \n",
    "  data_ret =  data[station_name_list][start_num_int:end_num_int+1]  \n",
    "  如果想返回的是numpy的对象的话\n",
    "  data_ret =  data[station_name_list].values[start_num_int:end_num_int+1]  \n",
    "  data_ret = data[station_name_list][start_num_int:end_num_int+1].values  \n",
    "\n",
    "<font color=Blue size=4> **2.4 增加一列**  </font>  \n",
    "  data_ret['new'] = ....保证长度跟之前一致就可以了  \n",
    "<font color=Blue size=4> **2.5 输出CSV文件**  </font> \n",
    "   \n",
    "   data_frame.to_csv(\"waveform\"+str(fold_num)+\".csv\",index=False,sep=',')  \n",
    "<font color=Blue size=4> **2.6 按照行循环**  </font> <br/>\n",
    "for index, row in new_df.iterrows():<br/>\n",
    "    print(index,row['year'],row['month'])<br/>   \n",
    "<font color=Blue size=4> **2.7 删除一列**  </font> <br/>   \n",
    "SC_df = SC_df.drop(['time_stamp'],axis=1)"
   ]
  },
  {
   "cell_type": "markdown",
   "metadata": {},
   "source": [
    "<font color=Blue size=5> **三、 画图** </font>  "
   ]
  },
  {
   "cell_type": "markdown",
   "metadata": {},
   "source": [
    "<font color=Blue size=4> **3.1 以日期为横坐标的方法**</font>  \n",
    "1.假如画图采用x，y，x的时间必须为时间戳。<br/>\n",
    " 　　将x列表中的数值以1200为间隔转化为datetime.datetime对象，然后转化为字符串列表。    \n",
    "　　x_data_time = [datetime.datetime.fromtimestamp(d) for d in x[::1200]]  \n",
    "　　x_label = [t.strftime('%Y-%m-%d %H:%M:%S') for t in x_data_time]  \n",
    "2.设置坐标轴  \n",
    "　　plt.xticks(x[::1200],x_label,rotation=-20)  \n",
    "3.设置x轴的显示范围，这样不同类型的数据在图上就可以对应起来了。  \n",
    "　　plt.xlim([xmin,xmax])  \n",
    "\n",
    "<font color=Blue size=4> **3.2 显示汉字**</font>  \n",
    "　　plt.rc('font', family='SimHei', size=13)  \n",
    " <font color=Blue size=4> **3.3 画图大小**</font>  \n",
    "   plt.figure(figsize=(20, 4))"
   ]
  },
  {
   "cell_type": "markdown",
   "metadata": {},
   "source": [
    "<font color=Blue size=5> **四、 样本制作** </font>  "
   ]
  },
  {
   "cell_type": "code",
   "execution_count": null,
   "metadata": {
    "collapsed": true
   },
   "outputs": [],
   "source": [
    "# n折交叉验证\n",
    "from sklearn.model_selection import KFold\n",
    "kf = KFold(5, True, 2020)\n",
    "\n",
    "X = np.zeros([101,80])\n",
    "for train_index, test_index in kf.split(X):\n",
    "    print(test_index.shape)"
   ]
  },
  {
   "cell_type": "markdown",
   "metadata": {},
   "source": [
    "<font color=Blue size=5> **五、 数据处理** </font>  "
   ]
  },
  {
   "cell_type": "code",
   "execution_count": 11,
   "metadata": {},
   "outputs": [],
   "source": [
    "#5.1 数据插值\n",
    "import numpy as np\n",
    "from scipy import interpolate\n",
    "a = [1 ,2, 3 ,4, 5, 6]\n",
    "f=interpolate.interp1d(np.arange(0,len(a)),a,kind='slinear')\n",
    "    # ‘slinear’, ‘quadratic’ and ‘cubic’ refer to a spline interpolation of first, second or third order)\n",
    "x_new = np.arange(0,len(a)-1,0.5)\n",
    "ynew=f(x_new)"
   ]
  },
  {
   "cell_type": "markdown",
   "metadata": {},
   "source": [
    "<font color=Blue size=5> **六、 文件处理** </font>  "
   ]
  },
  {
   "cell_type": "code",
   "execution_count": null,
   "metadata": {},
   "outputs": [],
   "source": [
    "#清空路径\n",
    "def rmFile(path):\n",
    "    files = os.listdir(path)\n",
    "    for file in files:\n",
    "        file_path = os.path.join(path, file)\n",
    "        if os.path.isfile(file_path):\n",
    "            os.remove(file_path)"
   ]
  },
  {
   "cell_type": "markdown",
   "metadata": {},
   "source": [
    "<font color=Blue size=5> **七、 随机数** </font>  "
   ]
  },
  {
   "cell_type": "code",
   "execution_count": 2,
   "metadata": {},
   "outputs": [],
   "source": [
    "import random \n",
    "#生成区间内的随机数\n",
    "a = random.randrange(-1,2)"
   ]
  },
  {
   "cell_type": "code",
   "execution_count": null,
   "metadata": {},
   "outputs": [],
   "source": []
  }
 ],
 "metadata": {
  "anaconda-cloud": {},
  "kernelspec": {
   "display_name": "Python 3",
   "language": "python",
   "name": "python3"
  },
  "language_info": {
   "codemirror_mode": {
    "name": "ipython",
    "version": 3
   },
   "file_extension": ".py",
   "mimetype": "text/x-python",
   "name": "python",
   "nbconvert_exporter": "python",
   "pygments_lexer": "ipython3",
   "version": "3.7.4"
  }
 },
 "nbformat": 4,
 "nbformat_minor": 2
}
